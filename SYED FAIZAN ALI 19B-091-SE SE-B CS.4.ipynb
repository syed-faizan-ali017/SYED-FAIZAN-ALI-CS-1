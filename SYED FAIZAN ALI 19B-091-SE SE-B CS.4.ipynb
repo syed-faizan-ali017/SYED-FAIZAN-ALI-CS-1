{
 "cells": [
  {
   "cell_type": "markdown",
   "metadata": {},
   "source": [
    "# SYED FAIZAN ALI(19B-091-SE)SE-B"
   ]
  },
  {
   "cell_type": "markdown",
   "metadata": {},
   "source": [
    "# CASE STUDY.4 IMAGE PROCESSING "
   ]
  },
  {
   "cell_type": "code",
   "execution_count": 7,
   "metadata": {},
   "outputs": [
    {
     "name": "stdout",
     "output_type": "stream",
     "text": [
      "(512, 512)\n",
      "PNG\n"
     ]
    }
   ],
   "source": [
    "import PIL.Image\n",
    "im=PIL.Image.open(\"/home/waqar/Downloads/montana.png\")\n",
    "im.show()\n",
    "print(im.size)\n",
    "print(im.format)"
   ]
  },
  {
   "cell_type": "code",
   "execution_count": 9,
   "metadata": {},
   "outputs": [
    {
     "data": {
      "text/plain": [
       "'RGB'"
      ]
     },
     "execution_count": 9,
     "metadata": {},
     "output_type": "execute_result"
    }
   ],
   "source": [
    "im.mode"
   ]
  },
  {
   "cell_type": "code",
   "execution_count": 10,
   "metadata": {},
   "outputs": [],
   "source": [
    "copied=im.copy()\n",
    "copied.show()"
   ]
  },
  {
   "cell_type": "code",
   "execution_count": 13,
   "metadata": {},
   "outputs": [],
   "source": [
    "rotation=im.rotate(90).show()\n",
    "box=(600,600,1000,800)\n",
    "cropped=im.crop(box)"
   ]
  },
  {
   "cell_type": "code",
   "execution_count": 18,
   "metadata": {},
   "outputs": [],
   "source": [
    "smoothed=im.filter(PIL.ImageFilter.SMOOTH)\n",
    "smoothed.paste(cropped,box)"
   ]
  },
  {
   "cell_type": "code",
   "execution_count": 21,
   "metadata": {},
   "outputs": [],
   "source": [
    "im2=PIL.Image.new('RGB',(400,200))\n",
    "im2.show()"
   ]
  },
  {
   "cell_type": "code",
   "execution_count": 22,
   "metadata": {},
   "outputs": [],
   "source": [
    "im2.paste(cropped,(0,0,400,200))\n",
    "im2.save(\"crop.jpg\")"
   ]
  },
  {
   "cell_type": "code",
   "execution_count": 24,
   "metadata": {},
   "outputs": [],
   "source": [
    "im2.save(\"crop.gif\")"
   ]
  },
  {
   "cell_type": "code",
   "execution_count": 27,
   "metadata": {},
   "outputs": [
    {
     "data": {
      "text/plain": [
       "'GIF'"
      ]
     },
     "execution_count": 27,
     "metadata": {},
     "output_type": "execute_result"
    }
   ],
   "source": [
    "im3=PIL.Image.open(\"crop.gif\")\n",
    "im3.format"
   ]
  },
  {
   "cell_type": "code",
   "execution_count": 31,
   "metadata": {},
   "outputs": [],
   "source": [
    "#cs.18\n",
    "def warhol(photo):\n",
    "    width,height=photo.size\n",
    "    res=PIL.Image.new(photo.mode,(2*width,2*height))\n",
    "    res.paste(photo,(0,0,width,height))\n",
    "    coutour=photo.filter(PIL.Image.CONTOUR)\n",
    "    res.paste(contour,(width,0,2*width,height))\n",
    "    emboss=photo.filter(PIL.ImageFilter.EMBOSS)\n",
    "    res.paste(emboss,(0,height,width,2*height))\n",
    "    edges=photo.filter(PIL.ImageFilter.FIND_EDGES)\n",
    "    res.paste(edges,(width,height,2*width,2*height))\n",
    "    return res"
   ]
  },
  {
   "cell_type": "code",
   "execution_count": 39,
   "metadata": {},
   "outputs": [
    {
     "name": "stdout",
     "output_type": "stream",
     "text": [
      "(3840, 2160)\n",
      "JPEG\n"
     ]
    }
   ],
   "source": [
    "#cs.19\n",
    "import PIL.Image\n",
    "im4=PIL.Image.open(\"/home/waqar/Downloads/khan.JPG\")\n",
    "im4.show()\n",
    "print(im4.size)\n",
    "print(im4.format)"
   ]
  },
  {
   "cell_type": "code",
   "execution_count": 47,
   "metadata": {},
   "outputs": [],
   "source": [
    "#cs.20\n",
    "from PIL import Image\n",
    "import PIL.Image\n",
    "im1=PIL.Image.open(\"/home/waqar/Downloads/khan.JPG\")\n",
    "width, height = im.size\n",
    "left = 4\n",
    "top = height / 5\n",
    "right = 154\n",
    "bottom = 3 * height / 5\n",
    "im1 = im.crop((left, top, right, bottom)) \n",
    "newsize = (300, 300) \n",
    "im1 = im1.resize(newsize)\n",
    "im1.show() "
   ]
  },
  {
   "cell_type": "code",
   "execution_count": 50,
   "metadata": {},
   "outputs": [],
   "source": [
    "#cs.21\n",
    "def convert(photo):\n",
    "    im=PIL.Image.open(\"/home/waqar/Downloads/khan.JPG\")\n",
    "    x=im.convert(\"RGB\")\n",
    "    z=x.save(\"khan.gif\")\n",
    "    return z\n",
    "convert(\"/home/waqar/Downloads/khan.JPG\")"
   ]
  },
  {
   "cell_type": "code",
   "execution_count": 66,
   "metadata": {},
   "outputs": [],
   "source": [
    "#cs.22\n",
    "from PIL import Image \n",
    "Image1 = Image.open('/home/waqar/Downloads/y.jpeg') \n",
    "  \n",
    "\n",
    "croppedIm = Image1.crop((150, 120, 200, 170)) \n",
    "croppedIm.save(\"yy.jpg\")  \n",
    "\n",
    "croppedIm.show()"
   ]
  },
  {
   "cell_type": "code",
   "execution_count": 83,
   "metadata": {},
   "outputs": [],
   "source": [
    "#cs.23\n",
    "from PIL import Image \n",
    "Image1 = Image.open('/home/waqar/Downloads/y.jpeg') \n",
    "croppedIm = Image1.crop((110, 110, 180, 200)) \n",
    "croppedIm.save(\"yy2.jpg\")\n",
    "croppedIm.show()"
   ]
  },
  {
   "cell_type": "code",
   "execution_count": 91,
   "metadata": {},
   "outputs": [
    {
     "name": "stdout",
     "output_type": "stream",
     "text": [
      "pos 0,0 size 400,225\n",
      "pos 0,400 size 197,255\n",
      "pos 400,0 size 400,400\n",
      "pos 400,400 size 400,200\n",
      "pos 800,0 size 400,200\n",
      "pos 800,400 size 400,400\n"
     ]
    }
   ],
   "source": [
    "#cs.24\n",
    "from __future__ import print_function\n",
    "import os\n",
    "from PIL import Image\n",
    "files = [\"/home/waqar/Downloads/khan.JPG\",\n",
    "         \"/home/waqar/Downloads/y.jpeg\",\n",
    "         \"/home/waqar/Downloads/montana.png\",\n",
    "         \"/home/waqar/Downloads/crop.gif\",\n",
    "         \"/home/waqar/Downloads/crop.jpg\",\n",
    "         \"/home/waqar/Downloads/montana.png\"\n",
    "  ]\n",
    "def album():    \n",
    "    result = Image.new(\"RGB\", (800, 800))\n",
    "\n",
    "    for index, file in enumerate(files):\n",
    "        path = os.path.expanduser(file)\n",
    "        img = Image.open(path)\n",
    "        img.thumbnail((400, 400), Image.ANTIALIAS)\n",
    "        x = index // 2 * 400\n",
    "        y = index % 2 * 400\n",
    "        w, h = img.size\n",
    "        print('pos {0},{1} size {2},{3}'.format(x, y, w, h))\n",
    "        result.paste(img, (x, y, x + w, y + h))\n",
    "\n",
    "    result.save(os.path.expanduser('~/image.jpg'))\n",
    "album()    "
   ]
  },
  {
   "cell_type": "code",
   "execution_count": 93,
   "metadata": {},
   "outputs": [],
   "source": [
    "#cs.25\n",
    "from PIL import Image\n",
    "\n",
    "test_image = \"/home/waqar/Downloads/montana.png\"\n",
    "original = Image.open(test_image)\n",
    "original.show()\n",
    "\n",
    "width, height = original.size   \n",
    "left = width/4\n",
    "top = height/4\n",
    "right = 3 * width/4\n",
    "bottom = 3 * height/4\n",
    "cropped = original.crop((left, top, right, bottom))\n",
    "\n",
    "cropped.show()\n",
    "cropped.save(\"testing.png\")"
   ]
  }
 ],
 "metadata": {
  "kernelspec": {
   "display_name": "Python 3",
   "language": "python",
   "name": "python3"
  },
  "language_info": {
   "codemirror_mode": {
    "name": "ipython",
    "version": 3
   },
   "file_extension": ".py",
   "mimetype": "text/x-python",
   "name": "python",
   "nbconvert_exporter": "python",
   "pygments_lexer": "ipython3",
   "version": "3.7.3"
  }
 },
 "nbformat": 4,
 "nbformat_minor": 2
}
