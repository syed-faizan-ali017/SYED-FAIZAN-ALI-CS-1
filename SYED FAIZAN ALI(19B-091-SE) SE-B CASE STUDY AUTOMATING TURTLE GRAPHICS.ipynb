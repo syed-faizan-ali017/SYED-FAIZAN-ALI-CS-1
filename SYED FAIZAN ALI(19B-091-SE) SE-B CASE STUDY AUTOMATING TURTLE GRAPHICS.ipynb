{
 "cells": [
  {
   "cell_type": "markdown",
   "metadata": {},
   "source": [
    "# CASE STUDY: AUTOMATING TURTLE GRAPHICS"
   ]
  },
  {
   "cell_type": "markdown",
   "metadata": {},
   "source": [
    "# DOUBLE SMILEY FACE BY JUMP FUNCTION:"
   ]
  },
  {
   "cell_type": "code",
   "execution_count": 1,
   "metadata": {},
   "outputs": [],
   "source": [
    "def jump(t,x,y):\n",
    "    'easy to jump to another point instead of penup nad pendown'\n",
    "    t.penup()\n",
    "    t.goto(x,y)\n",
    "    t.pendown()\n",
    "import turtle\n",
    "s=turtle.Screen()\n",
    "t=turtle.Turtle()\n",
    "def smileyface(t,x,y):\n",
    "    'this create a smiley face'\n",
    "    t.pensize(3)\n",
    "    t.setheading(0)\n",
    "    jump(t,x,y)\n",
    "    t.circle(100)\n",
    "    jump(t,x+35,y+120)\n",
    "    t.dot(25)\n",
    "    jump(t,x-35,y+120)\n",
    "    t.dot(25)\n",
    "    jump(t,x-60.62,y+65)\n",
    "    t.setheading(-60)\n",
    "    t.circle(70,120)\n",
    "smileyface(t,-100,100)\n",
    "smileyface(t,150,100)\n"
   ]
  },
  {
   "cell_type": "markdown",
   "metadata": {},
   "source": [
    "# PRACTICE PROBLEM CS.13:"
   ]
  },
  {
   "cell_type": "code",
   "execution_count": 1,
   "metadata": {},
   "outputs": [],
   "source": [
    "def jump(t,x,y):\n",
    "    'easy to jump to another point instead of penup nad pendown'\n",
    "    t.penup()\n",
    "    t.goto(x,y)\n",
    "    t.pendown()\n",
    "import turtle\n",
    "s=turtle.Screen()\n",
    "t=turtle.Turtle()\n",
    "def olympic(t):\n",
    "    t.pensize(3)\n",
    "    jump(t,0,0)\n",
    "    t.setheading(0)\n",
    "    t.circle(100)\n",
    "    jump(t,-220,0)\n",
    "    t.circle(100)\n",
    "    jump(t,220,0)\n",
    "    t.circle(100)\n",
    "    jump(t,-110,-100)\n",
    "    t.circle(100)\n",
    "    jump(t,110,-100)\n",
    "    t.circle(100)\n",
    "olympic(t)\n"
   ]
  },
  {
   "cell_type": "markdown",
   "metadata": {},
   "source": [
    "# PROBLEMS CS.14:POLYGON"
   ]
  },
  {
   "cell_type": "code",
   "execution_count": 1,
   "metadata": {},
   "outputs": [
    {
     "name": "stdout",
     "output_type": "stream",
     "text": [
      "enten the number of sides of polygon:3\n"
     ]
    }
   ],
   "source": [
    "import turtle\n",
    "s=turtle.Screen()\n",
    "t=turtle.Turtle()\n",
    "def polygon(t):\n",
    "    n=int(input(\"enten the number of sides of polygon:\"))\n",
    "    for i in range(1,n+1):\n",
    "        t.forward(100)\n",
    "        t.left(35)\n",
    "    t.goto(0,0)\n",
    "polygon(t)\n"
   ]
  },
  {
   "cell_type": "markdown",
   "metadata": {},
   "source": [
    "# PROBLEM CS.15: GRID"
   ]
  },
  {
   "cell_type": "code",
   "execution_count": 1,
   "metadata": {},
   "outputs": [],
   "source": [
    "import turtle\n",
    "s=turtle.Screen()\n",
    "t=turtle.Turtle()\n",
    "def grid(m,n):\n",
    "    x=0\n",
    "    y=0\n",
    "    for i in range(m):\n",
    "        for j in range(n):\n",
    "            t.penup()\n",
    "            t.goto(x,y)\n",
    "            t.pendown()\n",
    "            box()\n",
    "            x+=75\n",
    "        y-=75\n",
    "        x=0\n",
    "        t.penup()\n",
    "        t.goto(x,y)\n",
    "        t.pendown()\n",
    "\n",
    "            \n",
    "def box():\n",
    "    for i in range(4):\n",
    "        t.forward(75)\n",
    "        t.right(90)\n",
    "grid(2,2)\n"
   ]
  },
  {
   "cell_type": "markdown",
   "metadata": {},
   "source": [
    "# PROBLEM CS.16:SPIRAL"
   ]
  },
  {
   "cell_type": "code",
   "execution_count": 2,
   "metadata": {},
   "outputs": [],
   "source": [
    "import turtle\n",
    "s=turtle.Screen()\n",
    "t=turtle.Turtle()\n",
    "def square(l,ang):\n",
    "     for i in range(1,5):\n",
    "        t.forward(l)\n",
    "        t.right(90)\n",
    "def spiral(l,ang,mul):\n",
    "    for i in range(1,5):\n",
    "        t.forward(l)\n",
    "        t.right(90)\n",
    "    t.speed(400)\n",
    "    t.pensize(3)\n",
    "    for i in range(1,mul+1):\n",
    "        square(l,ang)\n",
    "        t.right(10)\n",
    "spiral(50,90,37)"
   ]
  },
  {
   "cell_type": "markdown",
   "metadata": {},
   "source": [
    "# PROBLEM CS.17 PLANETS:"
   ]
  },
  {
   "cell_type": "code",
   "execution_count": null,
   "metadata": {},
   "outputs": [],
   "source": [
    "def jump(t,x,y):\n",
    "    'easy to jump to another point instead of penup nad pendown'\n",
    "    t.penup()\n",
    "    t.goto(x,y)\n",
    "    t.pendown()\n",
    "import turtle\n",
    "s=turtle.Screen()\n",
    "a=turtle.Turtle()\n",
    "a.shape('circle')\n",
    "b=turtle.Turtle()\n",
    "b.shape('circle')\n",
    "c=turtle.Turtle()\n",
    "c.shape('circle')\n",
    "d=turtle.Turtle()\n",
    "d.shape('circle')\n",
    "jump(a,0,-58)\n",
    "jump(b,0,-108)\n",
    "jump(c,0,-150)\n",
    "jump(d,0,-228)\n",
    "i=True\n",
    "while i==True:\n",
    "    a.speed(100)\n",
    "    b.speed(100)\n",
    "    c.speed(100)\n",
    "    d.speed(100)\n",
    "    for j in range(7):\n",
    "        a.circle(58,1)\n",
    "    for j in range(3):\n",
    "        b.circle(108,1)\n",
    "    for j in range(2):\n",
    "        c.circle(150,1)\n",
    "    for j in range(1):\n",
    "        d.circle(228,1)\n",
    "              \n"
   ]
  },
  {
   "cell_type": "code",
   "execution_count": null,
   "metadata": {},
   "outputs": [],
   "source": []
  }
 ],
 "metadata": {
  "kernelspec": {
   "display_name": "Python 3",
   "language": "python",
   "name": "python3"
  },
  "language_info": {
   "codemirror_mode": {
    "name": "ipython",
    "version": 3
   },
   "file_extension": ".py",
   "mimetype": "text/x-python",
   "name": "python",
   "nbconvert_exporter": "python",
   "pygments_lexer": "ipython3",
   "version": "3.7.3"
  }
 },
 "nbformat": 4,
 "nbformat_minor": 2
}
